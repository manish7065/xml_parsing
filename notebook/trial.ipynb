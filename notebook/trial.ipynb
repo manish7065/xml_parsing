{
 "cells": [
  {
   "cell_type": "markdown",
   "metadata": {},
   "source": [
    "parce ant string parsing are 2 methods of parsing in ET"
   ]
  },
  {
   "cell_type": "code",
   "execution_count": 32,
   "metadata": {},
   "outputs": [
    {
     "name": "stdout",
     "output_type": "stream",
     "text": [
      "<Element 'metadata' at 0x000001F237C6A590>\n"
     ]
    }
   ],
   "source": [
    "import xml.etree.ElementTree as ET\n",
    "my_tree = ET.parse(\"../sample.xml\")\n",
    "my_root = my_tree.getroot()\n",
    "print(my_root)"
   ]
  },
  {
   "cell_type": "code",
   "execution_count": 33,
   "metadata": {},
   "outputs": [
    {
     "name": "stdout",
     "output_type": "stream",
     "text": [
      "metadata\n"
     ]
    }
   ],
   "source": [
    "print(my_root.tag)\n"
   ]
  },
  {
   "cell_type": "markdown",
   "metadata": {},
   "source": [
    "### First child of root element"
   ]
  },
  {
   "cell_type": "code",
   "execution_count": 34,
   "metadata": {},
   "outputs": [
    {
     "name": "stdout",
     "output_type": "stream",
     "text": [
      "food\n"
     ]
    }
   ],
   "source": [
    "print(my_root[0].tag)\n"
   ]
  },
  {
   "cell_type": "code",
   "execution_count": 35,
   "metadata": {},
   "outputs": [],
   "source": [
    "## attributes"
   ]
  },
  {
   "cell_type": "code",
   "execution_count": 36,
   "metadata": {},
   "outputs": [
    {
     "name": "stdout",
     "output_type": "stream",
     "text": [
      "{}\n"
     ]
    }
   ],
   "source": [
    "print(my_root[0].attrib)"
   ]
  },
  {
   "cell_type": "code",
   "execution_count": 37,
   "metadata": {},
   "outputs": [
    {
     "name": "stdout",
     "output_type": "stream",
     "text": [
      "item {'name': 'breakfast'}\n",
      "price {}\n",
      "description {}\n",
      "calories {}\n"
     ]
    }
   ],
   "source": [
    "for x in my_root[0]:\n",
    "    print(x.tag,x.attrib)"
   ]
  },
  {
   "cell_type": "markdown",
   "metadata": {},
   "source": [
    "### Finding all food price"
   ]
  },
  {
   "cell_type": "code",
   "execution_count": 50,
   "metadata": {},
   "outputs": [
    {
     "name": "stdout",
     "output_type": "stream",
     "text": [
      "Idly $2.5\n",
      "PAper Dosa $2.7\n"
     ]
    }
   ],
   "source": [
    "for x in my_root.findall('food'):\n",
    "    item = x.find('item').text\n",
    "    price = x.find('price').text\n",
    "    print(item,price)\n",
    "    "
   ]
  },
  {
   "cell_type": "code",
   "execution_count": null,
   "metadata": {},
   "outputs": [],
   "source": []
  },
  {
   "cell_type": "code",
   "execution_count": null,
   "metadata": {},
   "outputs": [],
   "source": []
  },
  {
   "cell_type": "code",
   "execution_count": null,
   "metadata": {},
   "outputs": [],
   "source": []
  },
  {
   "cell_type": "code",
   "execution_count": null,
   "metadata": {},
   "outputs": [],
   "source": []
  },
  {
   "cell_type": "markdown",
   "metadata": {},
   "source": [
    "## parsing by string methos"
   ]
  },
  {
   "cell_type": "code",
   "execution_count": 19,
   "metadata": {},
   "outputs": [
    {
     "name": "stdout",
     "output_type": "stream",
     "text": [
      "metadata\n"
     ]
    }
   ],
   "source": [
    "import xml.etree.ElementTree as ET\n",
    "data = \"\"\"<?xml version='1.0' encoding = \"UTF-8\"?>\n",
    "<metadata>\n",
    "<food>\n",
    "    <item name=\"breakfast\">Idly</item>\n",
    "    <price>$2.5</price>\n",
    "    <description>\n",
    "        Two idly's with chutney\n",
    "    </description>\n",
    "    <calories>535</calories>\n",
    "</food>\n",
    "</metadata>\"\"\"\n",
    "my_root = ET.fromstring(data)\n",
    "print(my_root.tag)"
   ]
  },
  {
   "cell_type": "code",
   "execution_count": 18,
   "metadata": {},
   "outputs": [
    {
     "name": "stdout",
     "output_type": "stream",
     "text": [
      "food\n"
     ]
    }
   ],
   "source": [
    "print(my_root[0].tag)\n"
   ]
  },
  {
   "cell_type": "code",
   "execution_count": null,
   "metadata": {},
   "outputs": [],
   "source": []
  },
  {
   "cell_type": "code",
   "execution_count": null,
   "metadata": {},
   "outputs": [],
   "source": []
  },
  {
   "cell_type": "code",
   "execution_count": null,
   "metadata": {},
   "outputs": [],
   "source": []
  },
  {
   "cell_type": "markdown",
   "metadata": {},
   "source": [
    "# exp with main data"
   ]
  },
  {
   "cell_type": "code",
   "execution_count": null,
   "metadata": {},
   "outputs": [],
   "source": [
    "import xml.etree.ElementTree as ET\n",
    "open()\n",
    "tree = ET.parse(\"../trial.xml\")\n",
    "root = tree.getroot()\n",
    "print(root)"
   ]
  },
  {
   "cell_type": "code",
   "execution_count": 57,
   "metadata": {},
   "outputs": [
    {
     "name": "stdout",
     "output_type": "stream",
     "text": [
      "<Element '{urn:x-lexisnexis:content:legislation:mastering:1}legislation' at 0x000001F238041A40>\n"
     ]
    }
   ],
   "source": [
    "import xml.etree.ElementTree as ET\n",
    "tree = ET.parse(\"../trial.xml\")\n",
    "root = tree.getroot()\n",
    "print(root)"
   ]
  },
  {
   "cell_type": "code",
   "execution_count": 55,
   "metadata": {},
   "outputs": [
    {
     "data": {
      "text/plain": [
       "'{urn:x-lexisnexis:content:legislation:mastering:1}legislation'"
      ]
     },
     "execution_count": 55,
     "metadata": {},
     "output_type": "execute_result"
    }
   ],
   "source": [
    "root.tag"
   ]
  },
  {
   "cell_type": "code",
   "execution_count": 56,
   "metadata": {},
   "outputs": [
    {
     "name": "stdout",
     "output_type": "stream",
     "text": [
      "{urn:x-lexisnexis:content:legislation:mastering:1}content\n"
     ]
    }
   ],
   "source": [
    "print(root[0].tag)\n"
   ]
  },
  {
   "cell_type": "code",
   "execution_count": 52,
   "metadata": {},
   "outputs": [
    {
     "name": "stdout",
     "output_type": "stream",
     "text": [
      "{urn:x-lexisnexis:content:legislation:mastering:1}information\n"
     ]
    }
   ],
   "source": [
    "print(root[0][0].tag)\n"
   ]
  },
  {
   "cell_type": "code",
   "execution_count": 62,
   "metadata": {},
   "outputs": [
    {
     "name": "stdout",
     "output_type": "stream",
     "text": [
      "{urn:x-lexisnexis:content:legislation:mastering:1}content\n",
      "{urn:x-lexisnexis:content:documentlevelmetadata:mastering:1}metadata\n"
     ]
    }
   ],
   "source": [
    "for child in root:\n",
    "    print(child.tag)"
   ]
  },
  {
   "cell_type": "code",
   "execution_count": 48,
   "metadata": {},
   "outputs": [
    {
     "name": "stdout",
     "output_type": "stream",
     "text": [
      "{urn:x-lexisnexis:content:legislation:mastering:1}information {}\n",
      "{urn:x-lexisnexis:content:legislation:mastering:1}hierarchy {'{urn:x-lexisnexis:content:guid:global:1}guid': 'urn:contentItem:691J-T853-MCK9-90DR-00000-00', 'type': 'publicAct', '{http://www.w3.org/XML/1998/namespace}id': 'SA_ACT_2003-18_LEGITEM'}\n"
     ]
    }
   ],
   "source": [
    "for x in my_root2[0]:\n",
    "    print(x.tag,x.attrib)"
   ]
  },
  {
   "cell_type": "code",
   "execution_count": 49,
   "metadata": {},
   "outputs": [
    {
     "name": "stdout",
     "output_type": "stream",
     "text": [
      "{http://purl.org/dc/elements/1.1/}metadata {}\n",
      "{urn:x-lexisnexis:content:default:mastering:1}currencyStatement {}\n",
      "{urn:x-lexisnexis:content:classify:mastering:1}classification {'classScheme': 'docinfo:topiccodes'}\n",
      "{urn:x-lexisnexis:content:classify:mastering:1}classification {'classScheme': 'selector'}\n",
      "{urn:x-lexisnexis:content:classify:mastering:1}classification {'classScheme': 'lbu-subj'}\n",
      "{urn:x-lexisnexis:content:documentlevelmetadata:mastering:1}sourceSequenceNumber {'sequenceType': 'bookOrder'}\n",
      "{urn:x-lexisnexis:content:documentlevelmetadata:mastering:1}alternateRenditions {}\n",
      "{urn:x-lexisnexis:content:documentlevelmetadata:mastering:1}alternateRenditions {}\n",
      "{urn:x-lexisnexis:content:documentlevelmetadata:mastering:1}sourceDocumentInformation {'source': 'lbu-meta'}\n"
     ]
    }
   ],
   "source": [
    "for x in my_root2[1]:\n",
    "    print(x.tag,x.attrib)"
   ]
  },
  {
   "cell_type": "code",
   "execution_count": 65,
   "metadata": {},
   "outputs": [],
   "source": [
    "for neighbor in root.iter('urn:x-lexisnexis:content:legislation:mastering:1'):\n",
    "    print(neighbor.tag,neighbor.attrib)"
   ]
  },
  {
   "cell_type": "code",
   "execution_count": 68,
   "metadata": {},
   "outputs": [
    {
     "name": "stdout",
     "output_type": "stream",
     "text": [
      "{urn:x-lexisnexis:content:jurisdiction-info:mastering:1}legislativeBodyInformation {}\n"
     ]
    }
   ],
   "source": [
    "# {urn:x-lexisnexis:content:legislation:mastering:1}content\n",
    "for neighbor in root.iter('{urn:x-lexisnexis:content:legislation:mastering:1}content'):\n",
    "    print(neighbor.tag,neighbor.attrib)"
   ]
  },
  {
   "cell_type": "code",
   "execution_count": 69,
   "metadata": {},
   "outputs": [
    {
     "ename": "TypeError",
     "evalue": "element indices must be integers",
     "output_type": "error",
     "traceback": [
      "\u001b[1;31m---------------------------------------------------------------------------\u001b[0m",
      "\u001b[1;31mTypeError\u001b[0m                                 Traceback (most recent call last)",
      "\u001b[1;32mc:\\Users\\Manish\\Desktop\\office\\xml_parsing\\notebook\\trial.ipynb Cell 31\u001b[0m line \u001b[0;36m1\n\u001b[1;32m----> <a href='vscode-notebook-cell:/c%3A/Users/Manish/Desktop/office/xml_parsing/notebook/trial.ipynb#X32sZmlsZQ%3D%3D?line=0'>1</a>\u001b[0m root[\u001b[39m'\u001b[39;49m\u001b[39m{\u001b[39;49m\u001b[39murn:x-lexisnexis:content:legislation:mastering:1}content\u001b[39;49m\u001b[39m'\u001b[39;49m]\n",
      "\u001b[1;31mTypeError\u001b[0m: element indices must be integers"
     ]
    }
   ],
   "source": [
    "root['{urn:x-lexisnexis:content:legislation:mastering:1}content']"
   ]
  },
  {
   "cell_type": "markdown",
   "metadata": {},
   "source": []
  },
  {
   "cell_type": "code",
   "execution_count": 76,
   "metadata": {},
   "outputs": [
    {
     "ename": "SyntaxError",
     "evalue": "prefix 'legis' not found in prefix map (<string>)",
     "output_type": "error",
     "traceback": [
      "Traceback \u001b[1;36m(most recent call last)\u001b[0m:\n",
      "\u001b[0m  File \u001b[0;32mc:\\Users\\Manish\\.conda\\envs\\gen_env\\lib\\site-packages\\IPython\\core\\interactiveshell.py:3505\u001b[0m in \u001b[0;35mrun_code\u001b[0m\n    exec(code_obj, self.user_global_ns, self.user_ns)\u001b[0m\n",
      "\u001b[0m  Cell \u001b[0;32mIn[76], line 1\u001b[0m\n    for i in root.findall(\"./legis:content\"):\u001b[0m\n",
      "\u001b[0m  File \u001b[0;32mc:\\Users\\Manish\\.conda\\envs\\gen_env\\lib\\xml\\etree\\ElementPath.py:395\u001b[0m in \u001b[0;35mfindall\u001b[0m\n    return list(iterfind(elem, path, namespaces))\u001b[0m\n",
      "\u001b[0m  File \u001b[0;32mc:\\Users\\Manish\\.conda\\envs\\gen_env\\lib\\xml\\etree\\ElementPath.py:374\u001b[0m in \u001b[0;35miterfind\u001b[0m\n    token = next()\u001b[0m\n",
      "\u001b[1;36m  File \u001b[1;32mc:\\Users\\Manish\\.conda\\envs\\gen_env\\lib\\xml\\etree\\ElementPath.py:86\u001b[1;36m in \u001b[1;35mxpath_tokenizer\u001b[1;36m\n\u001b[1;33m    raise SyntaxError(\"prefix %r not found in prefix map\" % prefix) from None\u001b[1;36m\n",
      "\u001b[1;36m  File \u001b[1;32m<string>\u001b[1;36m\u001b[0m\n\u001b[1;31mSyntaxError\u001b[0m\u001b[1;31m:\u001b[0m prefix 'legis' not found in prefix map\n"
     ]
    }
   ],
   "source": [
    "for i in root.findall(\"./legis:content\"):\n",
    "    print(i)\n",
    "    "
   ]
  },
  {
   "cell_type": "code",
   "execution_count": null,
   "metadata": {},
   "outputs": [],
   "source": []
  }
 ],
 "metadata": {
  "kernelspec": {
   "display_name": "gen_env",
   "language": "python",
   "name": "python3"
  },
  "language_info": {
   "codemirror_mode": {
    "name": "ipython",
    "version": 3
   },
   "file_extension": ".py",
   "mimetype": "text/x-python",
   "name": "python",
   "nbconvert_exporter": "python",
   "pygments_lexer": "ipython3",
   "version": "3.8.17"
  }
 },
 "nbformat": 4,
 "nbformat_minor": 2
}
