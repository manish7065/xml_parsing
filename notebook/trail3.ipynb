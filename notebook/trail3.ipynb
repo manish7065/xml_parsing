{
 "cells": [
  {
   "cell_type": "markdown",
   "metadata": {},
   "source": [
    "# Parameters Parsing\n",
    "\n",
    "## Required Parameters:\n",
    "\n",
    "attach_id<br>\n",
    "attach_no<br>\n",
    "attach_no<br>\n",
    "SMI<br>\n",
    "12638::68YP-1RR1-JS0R-22XJ-00000-00-12638-VIC-ACT-10003::215::1"
   ]
  },
  {
   "cell_type": "code",
   "execution_count": 119,
   "metadata": {},
   "outputs": [],
   "source": [
    "import xml.etree.ElementTree as ET\n",
    "\n",
    "# root = ET.parse(\"../trial.xml\")\n",
    "\n",
    "root = ET.parse(\"../SK_DATA.XML\")\n",
    "\n"
   ]
  },
  {
   "cell_type": "code",
   "execution_count": 120,
   "metadata": {},
   "outputs": [
    {
     "name": "stdout",
     "output_type": "stream",
     "text": [
      "\n",
      "            \n"
     ]
    }
   ],
   "source": [
    "ns = {'legis':\"urn:x-lexisnexis:content:legislation:mastering:1\",\n",
    "      'ref':\"urn:x-lexisnexis:content:reference:mastering:1\",\n",
    "      'proc':\"urn:x-lexisnexis:content:process-elements:mastering:1\",\n",
    "      'doc':\"urn:x-lexisnexis:content:documentlevelmetadata:mastering:1\"\n",
    "      \n",
    "      }\n",
    "for actor in root.findall('legis:content',ns):\n",
    "    name = actor.find('legis:hierarchy',ns)\n",
    "    print(name.text)\n",
    "    for char in actor.findall('ref:locatorKey',ns):\n",
    "        print(f\"char_test{char.text}\")\n",
    "    # print(actor)\n",
    "\n"
   ]
  },
  {
   "cell_type": "code",
   "execution_count": 121,
   "metadata": {},
   "outputs": [
    {
     "data": {
      "text/plain": [
       "[<Element '{urn:x-lexisnexis:content:legislation:mastering:1}legislation' at 0x0000025E60BB9C20>]"
      ]
     },
     "execution_count": 121,
     "metadata": {},
     "output_type": "execute_result"
    }
   ],
   "source": [
    "root.findall(\".\")"
   ]
  },
  {
   "cell_type": "code",
   "execution_count": 122,
   "metadata": {},
   "outputs": [
    {
     "data": {
      "text/plain": [
       "{'name': 'attachment-key'}"
      ]
     },
     "execution_count": 122,
     "metadata": {},
     "output_type": "execute_result"
    }
   ],
   "source": [
    "root.findall(\".//*[@name='attachment-key']\")[0].attrib"
   ]
  },
  {
   "cell_type": "code",
   "execution_count": 123,
   "metadata": {},
   "outputs": [
    {
     "data": {
      "text/plain": [
       "'{urn:x-lexisnexis:content:reference:mastering:1}keyName'"
      ]
     },
     "execution_count": 123,
     "metadata": {},
     "output_type": "execute_result"
    }
   ],
   "source": [
    "root.findall(\".//*[@name='attachment-key']\")[0].tag\n"
   ]
  },
  {
   "cell_type": "code",
   "execution_count": 124,
   "metadata": {},
   "outputs": [
    {
     "data": {
      "text/plain": [
       "{'value': 'VICLEG_STATUS'}"
      ]
     },
     "execution_count": 124,
     "metadata": {},
     "output_type": "execute_result"
    }
   ],
   "source": [
    "root.findall(\".//*[@value]\")[0].attrib\n"
   ]
  },
  {
   "cell_type": "code",
   "execution_count": 125,
   "metadata": {},
   "outputs": [
    {
     "data": {
      "text/plain": [
       "{'value': 'VICLEG_STATUS'}"
      ]
     },
     "execution_count": 125,
     "metadata": {},
     "output_type": "execute_result"
    }
   ],
   "source": [
    "root.findall(\".//*[@value]\")[0].attrib\n"
   ]
  },
  {
   "cell_type": "code",
   "execution_count": 126,
   "metadata": {},
   "outputs": [
    {
     "data": {
      "text/plain": [
       "[<Element '{urn:x-lexisnexis:content:legislation:mastering:1}content' at 0x0000025E60BB9C70>]"
      ]
     },
     "execution_count": 126,
     "metadata": {},
     "output_type": "execute_result"
    }
   ],
   "source": [
    "root.findall('.//legis:content',ns)"
   ]
  },
  {
   "cell_type": "code",
   "execution_count": 127,
   "metadata": {},
   "outputs": [
    {
     "data": {
      "text/plain": [
       "{'{urn:x-lexisnexis:content:guid:global:1}guid': 'urn:contentItem:68G5-RHC3-MB33-V3WN-00000-00',\n",
       " 'type': 'publicAct',\n",
       " '{http://www.w3.org/XML/1998/namespace}id': 'VIC_ACT_10003_LEGITEM'}"
      ]
     },
     "execution_count": 127,
     "metadata": {},
     "output_type": "execute_result"
    }
   ],
   "source": [
    "root.findall('.//legis:hierarchy',ns)[0].attrib\n"
   ]
  },
  {
   "cell_type": "code",
   "execution_count": 128,
   "metadata": {},
   "outputs": [
    {
     "data": {
      "text/plain": [
       "<Element '{urn:x-lexisnexis:content:reference:mastering:1}link' at 0x0000025E60B71950>"
      ]
     },
     "execution_count": 128,
     "metadata": {},
     "output_type": "execute_result"
    }
   ],
   "source": [
    "root.findall('.//ref:link',ns)[0]\n",
    "\n"
   ]
  },
  {
   "cell_type": "code",
   "execution_count": 129,
   "metadata": {},
   "outputs": [
    {
     "data": {
      "text/plain": [
       "[]"
      ]
     },
     "execution_count": 129,
     "metadata": {},
     "output_type": "execute_result"
    }
   ],
   "source": [
    "root.findall('./ref:link',ns)"
   ]
  },
  {
   "cell_type": "code",
   "execution_count": 130,
   "metadata": {},
   "outputs": [
    {
     "data": {
      "text/plain": [
       "[]"
      ]
     },
     "execution_count": 130,
     "metadata": {},
     "output_type": "execute_result"
    }
   ],
   "source": [
    "root.findall('.//legis:hierarchy/ref:link',ns)\n"
   ]
  },
  {
   "cell_type": "code",
   "execution_count": 131,
   "metadata": {},
   "outputs": [
    {
     "data": {
      "text/plain": [
       "'{urn:x-lexisnexis:content:reference:mastering:1}locatorKey'"
      ]
     },
     "execution_count": 131,
     "metadata": {},
     "output_type": "execute_result"
    }
   ],
   "source": [
    "root.findall('.//ref:locatorKey',ns)[0].tag\n"
   ]
  },
  {
   "cell_type": "code",
   "execution_count": 132,
   "metadata": {},
   "outputs": [
    {
     "data": {
      "text/plain": [
       "{'value': ''}"
      ]
     },
     "execution_count": 132,
     "metadata": {},
     "output_type": "execute_result"
    }
   ],
   "source": [
    "\n",
    "root.findall('.//ref:keyValue',ns)[5].attrib\n"
   ]
  },
  {
   "cell_type": "markdown",
   "metadata": {},
   "source": [
    "### Fetching the Attachment key"
   ]
  },
  {
   "cell_type": "code",
   "execution_count": 133,
   "metadata": {},
   "outputs": [
    {
     "data": {
      "text/plain": [
       "''"
      ]
     },
     "execution_count": 133,
     "metadata": {},
     "output_type": "execute_result"
    }
   ],
   "source": [
    "# Final Attachment ID \n",
    "root.findall('.//ref:keyValue',ns)[5].attrib[\"value\"]\n"
   ]
  },
  {
   "cell_type": "code",
   "execution_count": 134,
   "metadata": {},
   "outputs": [],
   "source": [
    "# root.findall('.//ref:keyName[@name=\"attachment-key\"]',ns)\n"
   ]
  },
  {
   "cell_type": "code",
   "execution_count": 135,
   "metadata": {},
   "outputs": [],
   "source": [
    "# root.findall('.//ref:locatorKey/ref:keyName[@name=\"attachment-key\"]',ns)[1].tag\n",
    "\n"
   ]
  },
  {
   "cell_type": "code",
   "execution_count": 136,
   "metadata": {},
   "outputs": [],
   "source": [
    "# root.findall('.//ref:locatorKey/ref:keyName[@name=\"attachment-key\"]',ns)[1].attrib\n"
   ]
  },
  {
   "cell_type": "code",
   "execution_count": 137,
   "metadata": {},
   "outputs": [],
   "source": [
    "# root.findall('.//ref:locatorKey/ref:keyName[@name=\"attachment-key\"]/ref:keyValue',ns)\n"
   ]
  },
  {
   "cell_type": "code",
   "execution_count": 138,
   "metadata": {},
   "outputs": [],
   "source": [
    "# root.findall('.//ref:locatorKey/ref:keyValue',ns)[0].attrib\n"
   ]
  },
  {
   "cell_type": "code",
   "execution_count": 139,
   "metadata": {},
   "outputs": [],
   "source": [
    "# root.findall('.//ref:locatorKey/ref:keyValue',ns)[0].attrib\n"
   ]
  },
  {
   "cell_type": "code",
   "execution_count": 140,
   "metadata": {},
   "outputs": [
    {
     "data": {
      "text/plain": [
       "13"
      ]
     },
     "execution_count": 140,
     "metadata": {},
     "output_type": "execute_result"
    }
   ],
   "source": [
    "# root.findall('.//legis:hierarchy//doc:alternateRenditions//ref:locatorKey//ref:keyName[@name=\"attachment-key\"]',ns)[0].attrib\n",
    "len(root.findall('.//legis:hierarchy//doc:alternateRenditions//ref:locatorKey//ref:keyValue',ns))\n",
    "\n",
    "# root.findall('.//legis:hierarchy//doc:alternateRenditions//ref:locatorKey//ref:keyValue',ns)[0].attrib\n"
   ]
  },
  {
   "cell_type": "markdown",
   "metadata": {},
   "source": [
    "## Final attachment-key"
   ]
  },
  {
   "cell_type": "code",
   "execution_count": 141,
   "metadata": {},
   "outputs": [
    {
     "name": "stdout",
     "output_type": "stream",
     "text": [
      "68YP-1RR1-JS0R-22XJ-00000-00-12638-VIC-ACT-10003\n",
      "68YP-1RR1-JS0R-22XJ-00000-00-12638-VIC-ACT-10003\n",
      "68YP-1RR1-JS0R-22XJ-00000-00-12638-VIC-ACT-10003\n",
      "68YP-1RR1-JS0R-22XJ-00000-00-12638-VIC-ACT-10003\n",
      "68YP-1RR1-JS0R-22XJ-00000-00-12638-VIC-ACT-10003\n",
      "68YP-1RR1-JS0R-22XJ-00000-00-12638-VIC-ACT-10003\n",
      "68YP-1RR1-JS0R-22XJ-00000-00-12638-VIC-ACT-10003\n",
      "68YP-1RR1-JS0R-22XJ-00000-00-12638-VIC-ACT-10003\n",
      "68YP-1RR1-JS0R-22XJ-00000-00-12638-VIC-ACT-10003\n",
      "68YP-1RR1-JS0R-22XJ-00000-00-12638-VIC-ACT-10003\n",
      "68YP-1RR1-JS0R-22XJ-00000-00-12638-VIC-ACT-10003\n",
      "68YP-1RR1-JS0R-22XJ-00000-00-12638-VIC-ACT-10003\n",
      "68YP-1RR1-JS0R-22XJ-00000-00-12638-VIC-ACT-10003\n"
     ]
    }
   ],
   "source": [
    "for i in range(len(root.findall('.//legis:hierarchy//doc:alternateRenditions//ref:locatorKey//ref:keyValue',ns))):\n",
    "    print(root.findall('.//legis:hierarchy//doc:alternateRenditions//ref:locatorKey//ref:keyValue',ns)[1].attrib['value'])\n"
   ]
  },
  {
   "cell_type": "code",
   "execution_count": 142,
   "metadata": {},
   "outputs": [
    {
     "data": {
      "text/plain": [
       "13"
      ]
     },
     "execution_count": 142,
     "metadata": {},
     "output_type": "execute_result"
    }
   ],
   "source": [
    "# legis:hierarchy\n",
    "# doc:alternateRenditions\n",
    "# /ref:locatorKey/ref:keyValue\n",
    "len(root.findall('.//legis:hierarchy//doc:alternateRenditions//ref:locatorKey//ref:keyValue',ns))\n"
   ]
  },
  {
   "cell_type": "raw",
   "metadata": {},
   "source": [
    "all_id = []\n",
    "for i in range(len(root.findall('.//ref:keyValue',ns))):\n",
    "    att_id = root.findall('.//ref:keyValue',ns)[i].attrib[\"value\"]\n",
    "    \n",
    "    # print(att_id)\n",
    "    all_id.append(att_id)\n",
    "    \n",
    "print(all_id)\n"
   ]
  },
  {
   "cell_type": "code",
   "execution_count": 143,
   "metadata": {},
   "outputs": [
    {
     "data": {
      "text/plain": [
       "<Element '{urn:x-lexisnexis:content:process-elements:mastering:1}parameter' at 0x0000025E60C233B0>"
      ]
     },
     "execution_count": 143,
     "metadata": {},
     "output_type": "execute_result"
    }
   ],
   "source": [
    "root.find('.//proc:parameter[@name=\"attachment-smi\"]',ns)\n"
   ]
  },
  {
   "cell_type": "code",
   "execution_count": null,
   "metadata": {},
   "outputs": [],
   "source": []
  },
  {
   "cell_type": "code",
   "execution_count": null,
   "metadata": {},
   "outputs": [],
   "source": []
  },
  {
   "cell_type": "code",
   "execution_count": null,
   "metadata": {},
   "outputs": [],
   "source": []
  },
  {
   "cell_type": "code",
   "execution_count": null,
   "metadata": {},
   "outputs": [],
   "source": []
  },
  {
   "cell_type": "code",
   "execution_count": 144,
   "metadata": {},
   "outputs": [],
   "source": [
    "# root.findall('.//proc:parameter',ns)"
   ]
  },
  {
   "cell_type": "code",
   "execution_count": 145,
   "metadata": {},
   "outputs": [
    {
     "data": {
      "text/plain": [
       "'1'"
      ]
     },
     "execution_count": 145,
     "metadata": {},
     "output_type": "execute_result"
    }
   ],
   "source": [
    "root.findall('.//proc:parameter[@name=\"componentseq\"]',ns)[0].attrib['value']"
   ]
  },
  {
   "cell_type": "code",
   "execution_count": 146,
   "metadata": {},
   "outputs": [
    {
     "data": {
      "text/plain": [
       "'12638'"
      ]
     },
     "execution_count": 146,
     "metadata": {},
     "output_type": "execute_result"
    }
   ],
   "source": [
    "root.find('.//proc:parameter[@name=\"attachment-smi\"]',ns).attrib['value']"
   ]
  },
  {
   "cell_type": "code",
   "execution_count": 147,
   "metadata": {},
   "outputs": [
    {
     "data": {
      "text/plain": [
       "[<Element '{urn:x-lexisnexis:content:process-elements:mastering:1}parameter' at 0x0000025E60C23F90>,\n",
       " <Element '{urn:x-lexisnexis:content:process-elements:mastering:1}parameter' at 0x0000025E60C23DB0>,\n",
       " <Element '{urn:x-lexisnexis:content:process-elements:mastering:1}parameter' at 0x0000025E60C233B0>,\n",
       " <Element '{urn:x-lexisnexis:content:process-elements:mastering:1}parameter' at 0x0000025E60C128B0>,\n",
       " <Element '{urn:x-lexisnexis:content:process-elements:mastering:1}parameter' at 0x0000025E60C12950>,\n",
       " <Element '{urn:x-lexisnexis:content:process-elements:mastering:1}parameter' at 0x0000025E60C12BD0>,\n",
       " <Element '{urn:x-lexisnexis:content:process-elements:mastering:1}parameter' at 0x0000025E60C12C20>,\n",
       " <Element '{urn:x-lexisnexis:content:process-elements:mastering:1}parameter' at 0x0000025E60C12DB0>,\n",
       " <Element '{urn:x-lexisnexis:content:process-elements:mastering:1}parameter' at 0x0000025E60C12B80>,\n",
       " <Element '{urn:x-lexisnexis:content:process-elements:mastering:1}parameter' at 0x0000025E60CDBF90>,\n",
       " <Element '{urn:x-lexisnexis:content:process-elements:mastering:1}parameter' at 0x0000025E60CDD090>,\n",
       " <Element '{urn:x-lexisnexis:content:process-elements:mastering:1}parameter' at 0x0000025E60CDD130>,\n",
       " <Element '{urn:x-lexisnexis:content:process-elements:mastering:1}parameter' at 0x0000025E60D0C810>,\n",
       " <Element '{urn:x-lexisnexis:content:process-elements:mastering:1}parameter' at 0x0000025E60D0C8B0>,\n",
       " <Element '{urn:x-lexisnexis:content:process-elements:mastering:1}parameter' at 0x0000025E60D0C950>,\n",
       " <Element '{urn:x-lexisnexis:content:process-elements:mastering:1}parameter' at 0x0000025E60D26EF0>,\n",
       " <Element '{urn:x-lexisnexis:content:process-elements:mastering:1}parameter' at 0x0000025E60D26F90>,\n",
       " <Element '{urn:x-lexisnexis:content:process-elements:mastering:1}parameter' at 0x0000025E60D2B090>,\n",
       " <Element '{urn:x-lexisnexis:content:process-elements:mastering:1}parameter' at 0x0000025E60D35F40>,\n",
       " <Element '{urn:x-lexisnexis:content:process-elements:mastering:1}parameter' at 0x0000025E60D38040>,\n",
       " <Element '{urn:x-lexisnexis:content:process-elements:mastering:1}parameter' at 0x0000025E60D380E0>,\n",
       " <Element '{urn:x-lexisnexis:content:process-elements:mastering:1}parameter' at 0x0000025E60D3D900>,\n",
       " <Element '{urn:x-lexisnexis:content:process-elements:mastering:1}parameter' at 0x0000025E60D3D9A0>,\n",
       " <Element '{urn:x-lexisnexis:content:process-elements:mastering:1}parameter' at 0x0000025E60D3DA40>]"
      ]
     },
     "execution_count": 147,
     "metadata": {},
     "output_type": "execute_result"
    }
   ],
   "source": [
    "attach = \".//proc:parameter\"\n",
    "# attach = './/ref:inlineobject'\n",
    "# attach = './/ref:inlineobject'\n",
    "# attach = './/ref:lnlink[@service=\"ATTACHMENT\"]'\n",
    "\n",
    "attach_names = root.findall(attach, ns)\n",
    "attach_names"
   ]
  },
  {
   "cell_type": "code",
   "execution_count": 148,
   "metadata": {},
   "outputs": [],
   "source": [
    "attachments = []\n",
    "attachment_tag = [\n",
    "    \".//proc:parameter\",\n",
    "    './/ref:inlineobject',\n",
    "    # './/base:externalObject',\n",
    "    # './/base:figure',\n",
    "    './/ref:lnlink[@service=\"ATTACHMENT\"]',\n",
    "    # './/base:externalobject'\n",
    "]\n",
    "\n",
    "for attach in attachment_tag:\n",
    "    attach_names = root.findall(attach, ns)\n",
    "    attachments.extend(attach_names)"
   ]
  }
 ],
 "metadata": {
  "kernelspec": {
   "display_name": "gen_env",
   "language": "python",
   "name": "python3"
  },
  "language_info": {
   "codemirror_mode": {
    "name": "ipython",
    "version": 3
   },
   "file_extension": ".py",
   "mimetype": "text/x-python",
   "name": "python",
   "nbconvert_exporter": "python",
   "pygments_lexer": "ipython3",
   "version": "3.8.17"
  }
 },
 "nbformat": 4,
 "nbformat_minor": 2
}
