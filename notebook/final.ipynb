{
 "cells": [
  {
   "cell_type": "markdown",
   "metadata": {},
   "source": [
    "# Parameters Parsing\n",
    "\n",
    "## Required Parameters:\n",
    "\n",
    "attach_id<br>\n",
    "attach_no<br>\n",
    "attach_no<br>\n",
    "SMI<br>\n",
    "12638::68YP-1RR1-JS0R-22XJ-00000-00-12638-VIC-ACT-10003::215::1"
   ]
  },
  {
   "cell_type": "code",
   "execution_count": 1,
   "metadata": {},
   "outputs": [
    {
     "name": "stdout",
     "output_type": "stream",
     "text": [
      "\n",
      "            \n"
     ]
    }
   ],
   "source": [
    "import xml.etree.ElementTree as ET\n",
    "\n",
    "# root = ET.parse(\"../trial.xml\")\n",
    "\n",
    "root = ET.parse(\"../SK_DATA.XML\")\n",
    "\n",
    "ns = {'legis':\"urn:x-lexisnexis:content:legislation:mastering:1\",\n",
    "      'ref':\"urn:x-lexisnexis:content:reference:mastering:1\",\n",
    "      'proc':\"urn:x-lexisnexis:content:process-elements:mastering:1\",\n",
    "      'doc':\"urn:x-lexisnexis:content:documentlevelmetadata:mastering:1\"\n",
    "      \n",
    "      }\n",
    "\n"
   ]
  },
  {
   "cell_type": "markdown",
   "metadata": {},
   "source": [
    "## Final attachment-key\n"
   ]
  },
  {
   "cell_type": "code",
   "execution_count": 2,
   "metadata": {},
   "outputs": [
    {
     "name": "stdout",
     "output_type": "stream",
     "text": [
      "68YP-1RR1-JS0R-22XJ-00000-00-12638-VIC-ACT-10003\n",
      "68YP-1RR1-JS0R-22XJ-00000-00-12638-VIC-ACT-10003\n",
      "68YP-1RR1-JS0R-22XJ-00000-00-12638-VIC-ACT-10003\n",
      "68YP-1RR1-JS0R-22XJ-00000-00-12638-VIC-ACT-10003\n",
      "68YP-1RR1-JS0R-22XJ-00000-00-12638-VIC-ACT-10003\n",
      "68YP-1RR1-JS0R-22XJ-00000-00-12638-VIC-ACT-10003\n",
      "68YP-1RR1-JS0R-22XJ-00000-00-12638-VIC-ACT-10003\n",
      "68YP-1RR1-JS0R-22XJ-00000-00-12638-VIC-ACT-10003\n",
      "68YP-1RR1-JS0R-22XJ-00000-00-12638-VIC-ACT-10003\n",
      "68YP-1RR1-JS0R-22XJ-00000-00-12638-VIC-ACT-10003\n",
      "68YP-1RR1-JS0R-22XJ-00000-00-12638-VIC-ACT-10003\n",
      "68YP-1RR1-JS0R-22XJ-00000-00-12638-VIC-ACT-10003\n",
      "68YP-1RR1-JS0R-22XJ-00000-00-12638-VIC-ACT-10003\n"
     ]
    }
   ],
   "source": [
    "for i in range(len(root.findall('.//legis:hierarchy//doc:alternateRenditions//ref:locatorKey//ref:keyValue',ns))):\n",
    "    print(root.findall('.//legis:hierarchy//doc:alternateRenditions//ref:locatorKey//ref:keyValue',ns)[1].attrib['value'])\n"
   ]
  },
  {
   "cell_type": "code",
   "execution_count": null,
   "metadata": {},
   "outputs": [],
   "source": []
  }
 ],
 "metadata": {
  "kernelspec": {
   "display_name": "gen_env",
   "language": "python",
   "name": "python3"
  },
  "language_info": {
   "codemirror_mode": {
    "name": "ipython",
    "version": 3
   },
   "file_extension": ".py",
   "mimetype": "text/x-python",
   "name": "python",
   "nbconvert_exporter": "python",
   "pygments_lexer": "ipython3",
   "version": "3.8.17"
  }
 },
 "nbformat": 4,
 "nbformat_minor": 2
}
